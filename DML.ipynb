{
 "cells": [
  {
   "cell_type": "code",
   "execution_count": 177,
   "metadata": {},
   "outputs": [],
   "source": [
    "import pandas as pd\n",
    "import numpy as np\n",
    "from sklearn.linear_model import LinearRegression as lr\n",
    "from sklearn.ensemble import RandomForestRegressor as rfr\n",
    "from sklearn.ensemble import RandomForestClassifier as rfc\n",
    "from sklearn.experimental import enable_hist_gradient_boosting\n",
    "from sklearn.ensemble import HistGradientBoostingRegressor as gb\n",
    "import matplotlib.pyplot as plt\n",
    "from sklearn.datasets import load_boston"
   ]
  },
  {
   "cell_type": "code",
   "execution_count": 178,
   "metadata": {},
   "outputs": [
    {
     "data": {
      "text/plain": [
       "'\\nSteps:\\n1). Simulate confounders\\n2). Simulate treatment (either correlated or uncorrelated with confounders)\\n3). Simulate target (either correlated or uncorrelated with confounders)\\n4). Add treatment effect to target\\n5). Estimate impact of treatment naively\\n6). Estimate impact of treatment using Double ML\\n\\nNotes\\n--> If LinReg used to estimate propensity and target in DML, yields same treatment effect estimate as LinReg\\n'"
      ]
     },
     "execution_count": 178,
     "metadata": {},
     "output_type": "execute_result"
    }
   ],
   "source": [
    "'''\n",
    "Steps:\n",
    "1). Simulate confounders\n",
    "2). Simulate treatment (either correlated or uncorrelated with confounders)\n",
    "3). Simulate target (either correlated or uncorrelated with confounders)\n",
    "4). Add treatment effect to target\n",
    "5). Estimate impact of treatment naively\n",
    "6). Estimate impact of treatment using Double ML\n",
    "\n",
    "Notes\n",
    "--> If LinReg used to estimate propensity and target in DML, yields same treatment effect estimate as LinReg\n",
    "--> interaction_tgt=False ==> LR does very well at estimating treatment effect (better than DML)\n",
    "'''"
   ]
  },
  {
   "cell_type": "code",
   "execution_count": 179,
   "metadata": {},
   "outputs": [],
   "source": [
    "confounders = ['money','education','exercise','diet']\n",
    "tgt_name = 'lifespan'"
   ]
  },
  {
   "cell_type": "code",
   "execution_count": 538,
   "metadata": {},
   "outputs": [],
   "source": [
    "def gen_treatment(data, treat_corr=True):\n",
    "        # Correlating\n",
    "        c_idx = np.random.randint(len(confounders)) # feat which has impact on treatment and target\n",
    "        print(f'Confounder: {confounders[c_idx]}')\n",
    "        if treat_corr: \n",
    "            conf = data[confounders[c_idx]].values*1.5 \n",
    "            other = data[confounders[2]].values*0.75 \n",
    "    #         treat = np.random.rand(len(data),1).reshape(-1,) + conf * other\n",
    "            treat = 1*np.random.rand(len(data),1).reshape(-1,) + conf # * other\n",
    "        treat /= conf.sum()\n",
    "        print(treat.mean())\n",
    "        return treat\n",
    "    \n",
    "def gen_data(n=2000, treat_eff = 0.5, \n",
    "             treat_col = 'coffee', \n",
    "             treat_corr = True,\n",
    "             treat_bin = False, \n",
    "             conf_corr = True,\n",
    "             interaction_tgt=True,\n",
    "             verbose=False):\n",
    "\n",
    "    #1. \n",
    "    if not conf_corr:\n",
    "        rands=1+np.random.rand(n,len(confounders))*2\n",
    "        data = pd.DataFrame(rands)\n",
    "\n",
    "    else:\n",
    "        if verbose: print('Correlated confounders')\n",
    "        # The desired mean values of the sample.\n",
    "        mu = np.array([5.0, 0.0, 10.0, 7.0])\n",
    "\n",
    "        # The desired covariance matrix.\n",
    "        r = np.array([\n",
    "                [  3.40, -2.15, -2.00, 3.00],\n",
    "                [ -2.15,  5.00,  1.50, -3.00],\n",
    "                [ -2.00,  1.50,  3.25, -1.20],\n",
    "                [  3.00, -3.00,  -1.20, 3.90]\n",
    "            ])\n",
    "\n",
    "        # Generate the random samples.\n",
    "        vals = np.random.multivariate_normal(mu, r, size=n)\n",
    "        data = pd.DataFrame(vals)\n",
    "\n",
    "    data.columns = confounders\n",
    "\n",
    "    #2.\n",
    "    if treat_bin:\n",
    "        treat = [np.random.randint(2) for _ in range(n)]\n",
    "    else:\n",
    "        treat = np.random.rand(n,1).reshape(-1,)\n",
    "    treat = gen_treatment(treat_corr=True)\n",
    "    data[treat_col] = treat\n",
    "\n",
    "    #3.\n",
    "    other = data[confounders[0]].values*0.5\n",
    "    conf = data[confounders[c_idx]].values*0.75\n",
    "    noise = np.random.rand(n,1).reshape(-1,)\n",
    "    if interaction_tgt:\n",
    "        tgt = other * conf + noise\n",
    "    else:\n",
    "        tgt = other + conf + noise\n",
    "\n",
    "    #4.\n",
    "    tgt = tgt + treat_eff*data[treat_col]\n",
    "    data[tgt_name] = tgt\n",
    "    return data"
   ]
  },
  {
   "cell_type": "code",
   "execution_count": 539,
   "metadata": {},
   "outputs": [
    {
     "data": {
      "text/plain": [
       "'\\nShould have a train-test split to learn propensity and tgt models\\n'"
      ]
     },
     "execution_count": 539,
     "metadata": {},
     "output_type": "execute_result"
    }
   ],
   "source": [
    "'''\n",
    "Should have a train-test split to learn propensity and tgt models\n",
    "'''"
   ]
  },
  {
   "cell_type": "code",
   "execution_count": 659,
   "metadata": {
    "scrolled": true
   },
   "outputs": [],
   "source": [
    "#6. Double-ML\n",
    "\n",
    "def dml(data, mod='rf', verbose=False):\n",
    "\n",
    "    # Fitting model to predict tgt from confounders\n",
    "    if mod=='gb': tgt_mod = gb(max_depth=2, min_samples_leaf=10)\n",
    "    else: tgt_mod = rfr(max_depth=3, min_samples_leaf=15, n_jobs=-1, n_estimators=50)\n",
    "    tgt_mod.fit(data[confounders], data[tgt_name])\n",
    "    # print(tgt_mod.coef_)\n",
    "    data['tgt_pred'] = tgt_mod.predict(data[confounders])\n",
    "\n",
    "    # Fitting model to predict propensity (treatment) from confounders\n",
    "    if mod=='gb': prop_mod = gb(max_depth=2, min_samples_leaf=10)\n",
    "    else: prop_mod = rfr(max_depth=3, min_samples_leaf=15, n_jobs=-1, n_estimators=50)\n",
    "    # if treat_bin: prop_mod = rfc()\n",
    "    prop_mod.fit(data[confounders], data[treat_col])\n",
    "    data['treat_pred'] = prop_mod.predict(data[confounders])\n",
    "\n",
    "    # Fitting treatment effect model on tgt and treatment/propensity residuals \n",
    "    data['tgt_resid'] = data[tgt_name] - data['tgt_pred']\n",
    "    data['treat_resid'] = data[treat_col] - data['treat_pred']\n",
    "    if verbose:\n",
    "        print(f\"Treat Pct Bias: {100*(data['treat_resid']/data[treat_col]).mean()}\")\n",
    "        print(f\"Tgt Pct Bias: {100*(data['tgt_resid']/data[tgt_name]).mean()}\")\n",
    "        print(f\"Treat MAPE: {100*abs(data['treat_resid']/data[treat_col]).mean()}\")\n",
    "        print(f\"Tgt MAPE: {100*abs(data['tgt_resid']/data[tgt_name]).mean()}\")\n",
    "\n",
    "    treat_mod = lr()\n",
    "    treat_mod.fit(data['treat_resid'].values.reshape(-1,1), data['tgt_resid'])\n",
    "    print(treat_mod.coef_)\n",
    "    print(f'Pct Err in DML Treatment Estimation: {100*round((treat_mod.coef_[0] - treat_eff)/treat_eff,4)}')\n",
    "    return treat_mod.coef_[0]\n",
    "\n",
    "def fit_naive_model(data):\n",
    "    # 5a. Fitting naive model\n",
    "    treat_mod = lr()\n",
    "    treat_mod.fit(data[treat_col].values.reshape(-1,1), data[tgt_name])\n",
    "#     print(treat_mod.coef_)\n",
    "    print(f'Pct Err in Naive Treatment Estimation: {100*round((treat_mod.coef_[0] - treat_eff)/treat_eff,4)}')\n",
    "\n",
    "def fit_std_model(data):\n",
    "    # 5b. Fitting standard model\n",
    "    treat_mod = lr()\n",
    "    feats = data[[treat_col] + confounders]\n",
    "    treat_mod.fit(feats, data[tgt_name])\n",
    "#     print(treat_mod.coef_)\n",
    "    c = treat_mod.coef_[0]\n",
    "    print(f'Pct Err in LinReg Treatment Estimation: {100*round((c - treat_eff)/treat_eff,4)}')\n",
    "    return c"
   ]
  },
  {
   "cell_type": "markdown",
   "metadata": {},
   "source": [
    "### Generating Distribution of Errors"
   ]
  },
  {
   "cell_type": "code",
   "execution_count": 510,
   "metadata": {},
   "outputs": [],
   "source": [
    "treat_eff = 0.5\n",
    "treat_col = 'coffee'\n",
    "n=2000\n",
    "mod='gb'\n",
    "inter_tgt=True\n",
    "v=True"
   ]
  },
  {
   "cell_type": "code",
   "execution_count": 660,
   "metadata": {
    "scrolled": true
   },
   "outputs": [
    {
     "ename": "ValueError",
     "evalue": "Length mismatch: Expected axis has 4 elements, new values have 13 elements",
     "output_type": "error",
     "traceback": [
      "\u001b[0;31m---------------------------------------------------------------------------\u001b[0m",
      "\u001b[0;31mValueError\u001b[0m                                Traceback (most recent call last)",
      "\u001b[0;32m<ipython-input-660-5c89a57668fd>\u001b[0m in \u001b[0;36m<module>\u001b[0;34m\u001b[0m\n\u001b[1;32m      7\u001b[0m                     \u001b[0mtreat_col\u001b[0m\u001b[0;34m=\u001b[0m\u001b[0mtreat_col\u001b[0m\u001b[0;34m,\u001b[0m\u001b[0;34m\u001b[0m\u001b[0;34m\u001b[0m\u001b[0m\n\u001b[1;32m      8\u001b[0m                     \u001b[0minteraction_tgt\u001b[0m\u001b[0;34m=\u001b[0m\u001b[0minter_tgt\u001b[0m\u001b[0;34m,\u001b[0m\u001b[0;34m\u001b[0m\u001b[0;34m\u001b[0m\u001b[0m\n\u001b[0;32m----> 9\u001b[0;31m                     treat_corr=True)\n\u001b[0m\u001b[1;32m     10\u001b[0m     \u001b[0mprint\u001b[0m\u001b[0;34m(\u001b[0m\u001b[0mdata\u001b[0m\u001b[0;34m.\u001b[0m\u001b[0mdescribe\u001b[0m\u001b[0;34m(\u001b[0m\u001b[0;34m)\u001b[0m\u001b[0;34m)\u001b[0m\u001b[0;34m\u001b[0m\u001b[0;34m\u001b[0m\u001b[0m\n\u001b[1;32m     11\u001b[0m \u001b[0;34m\u001b[0m\u001b[0m\n",
      "\u001b[0;32m<ipython-input-538-9f814ecf3c99>\u001b[0m in \u001b[0;36mgen_data\u001b[0;34m(n, treat_eff, treat_col, treat_corr, treat_bin, conf_corr, interaction_tgt, verbose)\u001b[0m\n\u001b[1;32m     42\u001b[0m         \u001b[0mdata\u001b[0m \u001b[0;34m=\u001b[0m \u001b[0mpd\u001b[0m\u001b[0;34m.\u001b[0m\u001b[0mDataFrame\u001b[0m\u001b[0;34m(\u001b[0m\u001b[0mvals\u001b[0m\u001b[0;34m)\u001b[0m\u001b[0;34m\u001b[0m\u001b[0;34m\u001b[0m\u001b[0m\n\u001b[1;32m     43\u001b[0m \u001b[0;34m\u001b[0m\u001b[0m\n\u001b[0;32m---> 44\u001b[0;31m     \u001b[0mdata\u001b[0m\u001b[0;34m.\u001b[0m\u001b[0mcolumns\u001b[0m \u001b[0;34m=\u001b[0m \u001b[0mconfounders\u001b[0m\u001b[0;34m\u001b[0m\u001b[0;34m\u001b[0m\u001b[0m\n\u001b[0m\u001b[1;32m     45\u001b[0m \u001b[0;34m\u001b[0m\u001b[0m\n\u001b[1;32m     46\u001b[0m     \u001b[0;31m#2.\u001b[0m\u001b[0;34m\u001b[0m\u001b[0;34m\u001b[0m\u001b[0;34m\u001b[0m\u001b[0m\n",
      "\u001b[0;32m~/anaconda3/envs/og/lib/python3.7/site-packages/pandas/core/generic.py\u001b[0m in \u001b[0;36m__setattr__\u001b[0;34m(self, name, value)\u001b[0m\n\u001b[1;32m   5141\u001b[0m         \u001b[0;32mtry\u001b[0m\u001b[0;34m:\u001b[0m\u001b[0;34m\u001b[0m\u001b[0;34m\u001b[0m\u001b[0m\n\u001b[1;32m   5142\u001b[0m             \u001b[0mobject\u001b[0m\u001b[0;34m.\u001b[0m\u001b[0m__getattribute__\u001b[0m\u001b[0;34m(\u001b[0m\u001b[0mself\u001b[0m\u001b[0;34m,\u001b[0m \u001b[0mname\u001b[0m\u001b[0;34m)\u001b[0m\u001b[0;34m\u001b[0m\u001b[0;34m\u001b[0m\u001b[0m\n\u001b[0;32m-> 5143\u001b[0;31m             \u001b[0;32mreturn\u001b[0m \u001b[0mobject\u001b[0m\u001b[0;34m.\u001b[0m\u001b[0m__setattr__\u001b[0m\u001b[0;34m(\u001b[0m\u001b[0mself\u001b[0m\u001b[0;34m,\u001b[0m \u001b[0mname\u001b[0m\u001b[0;34m,\u001b[0m \u001b[0mvalue\u001b[0m\u001b[0;34m)\u001b[0m\u001b[0;34m\u001b[0m\u001b[0;34m\u001b[0m\u001b[0m\n\u001b[0m\u001b[1;32m   5144\u001b[0m         \u001b[0;32mexcept\u001b[0m \u001b[0mAttributeError\u001b[0m\u001b[0;34m:\u001b[0m\u001b[0;34m\u001b[0m\u001b[0;34m\u001b[0m\u001b[0m\n\u001b[1;32m   5145\u001b[0m             \u001b[0;32mpass\u001b[0m\u001b[0;34m\u001b[0m\u001b[0;34m\u001b[0m\u001b[0m\n",
      "\u001b[0;32mpandas/_libs/properties.pyx\u001b[0m in \u001b[0;36mpandas._libs.properties.AxisProperty.__set__\u001b[0;34m()\u001b[0m\n",
      "\u001b[0;32m~/anaconda3/envs/og/lib/python3.7/site-packages/pandas/core/generic.py\u001b[0m in \u001b[0;36m_set_axis\u001b[0;34m(self, axis, labels)\u001b[0m\n\u001b[1;32m    562\u001b[0m     \u001b[0;32mdef\u001b[0m \u001b[0m_set_axis\u001b[0m\u001b[0;34m(\u001b[0m\u001b[0mself\u001b[0m\u001b[0;34m,\u001b[0m \u001b[0maxis\u001b[0m\u001b[0;34m:\u001b[0m \u001b[0mint\u001b[0m\u001b[0;34m,\u001b[0m \u001b[0mlabels\u001b[0m\u001b[0;34m:\u001b[0m \u001b[0mIndex\u001b[0m\u001b[0;34m)\u001b[0m \u001b[0;34m->\u001b[0m \u001b[0;32mNone\u001b[0m\u001b[0;34m:\u001b[0m\u001b[0;34m\u001b[0m\u001b[0;34m\u001b[0m\u001b[0m\n\u001b[1;32m    563\u001b[0m         \u001b[0mlabels\u001b[0m \u001b[0;34m=\u001b[0m \u001b[0mensure_index\u001b[0m\u001b[0;34m(\u001b[0m\u001b[0mlabels\u001b[0m\u001b[0;34m)\u001b[0m\u001b[0;34m\u001b[0m\u001b[0;34m\u001b[0m\u001b[0m\n\u001b[0;32m--> 564\u001b[0;31m         \u001b[0mself\u001b[0m\u001b[0;34m.\u001b[0m\u001b[0m_mgr\u001b[0m\u001b[0;34m.\u001b[0m\u001b[0mset_axis\u001b[0m\u001b[0;34m(\u001b[0m\u001b[0maxis\u001b[0m\u001b[0;34m,\u001b[0m \u001b[0mlabels\u001b[0m\u001b[0;34m)\u001b[0m\u001b[0;34m\u001b[0m\u001b[0;34m\u001b[0m\u001b[0m\n\u001b[0m\u001b[1;32m    565\u001b[0m         \u001b[0mself\u001b[0m\u001b[0;34m.\u001b[0m\u001b[0m_clear_item_cache\u001b[0m\u001b[0;34m(\u001b[0m\u001b[0;34m)\u001b[0m\u001b[0;34m\u001b[0m\u001b[0;34m\u001b[0m\u001b[0m\n\u001b[1;32m    566\u001b[0m \u001b[0;34m\u001b[0m\u001b[0m\n",
      "\u001b[0;32m~/anaconda3/envs/og/lib/python3.7/site-packages/pandas/core/internals/managers.py\u001b[0m in \u001b[0;36mset_axis\u001b[0;34m(self, axis, new_labels)\u001b[0m\n\u001b[1;32m    225\u001b[0m         \u001b[0;32mif\u001b[0m \u001b[0mnew_len\u001b[0m \u001b[0;34m!=\u001b[0m \u001b[0mold_len\u001b[0m\u001b[0;34m:\u001b[0m\u001b[0;34m\u001b[0m\u001b[0;34m\u001b[0m\u001b[0m\n\u001b[1;32m    226\u001b[0m             raise ValueError(\n\u001b[0;32m--> 227\u001b[0;31m                 \u001b[0;34mf\"Length mismatch: Expected axis has {old_len} elements, new \"\u001b[0m\u001b[0;34m\u001b[0m\u001b[0;34m\u001b[0m\u001b[0m\n\u001b[0m\u001b[1;32m    228\u001b[0m                 \u001b[0;34mf\"values have {new_len} elements\"\u001b[0m\u001b[0;34m\u001b[0m\u001b[0;34m\u001b[0m\u001b[0m\n\u001b[1;32m    229\u001b[0m             )\n",
      "\u001b[0;31mValueError\u001b[0m: Length mismatch: Expected axis has 4 elements, new values have 13 elements"
     ]
    }
   ],
   "source": [
    "dml_deltas=[]\n",
    "std_deltas=[]\n",
    "for i in range(30):\n",
    "\n",
    "    data = gen_data(n=n,\n",
    "                    treat_eff=treat_eff, \n",
    "                    treat_col=treat_col,\n",
    "                    interaction_tgt=inter_tgt,\n",
    "                    treat_corr=True)\n",
    "    print(data.describe())\n",
    "\n",
    "    dml_te = dml(data, mod=mod, verbose=v)\n",
    "    dml_delta = dml_te - treat_eff\n",
    "    dml_deltas.append(dml_delta)\n",
    "\n",
    "    std_te = fit_std_model(data)\n",
    "    std_delta = std_te - treat_eff\n",
    "    std_deltas.append(std_delta)"
   ]
  },
  {
   "cell_type": "code",
   "execution_count": 427,
   "metadata": {},
   "outputs": [
    {
     "name": "stdout",
     "output_type": "stream",
     "text": [
      "DML MAPE: 2.665079990198779\n",
      "DML % Bias: 2.665079990198779\n",
      "DML Stdev of Err: 0.6395463113212005\n"
     ]
    },
    {
     "data": {
      "text/plain": [
       "(array([1., 3., 6., 6., 7., 3., 1., 1., 0., 2.]),\n",
       " array([0.26766907, 0.86538763, 1.4631062 , 2.06082477, 2.65854333,\n",
       "        3.2562619 , 3.85398047, 4.45169903, 5.0494176 , 5.64713617,\n",
       "        6.24485473]),\n",
       " <BarContainer object of 10 artists>)"
      ]
     },
     "execution_count": 427,
     "metadata": {},
     "output_type": "execute_result"
    },
    {
     "data": {
      "image/png": "[encoded data removed]",
      "text/plain": [
       "<Figure size 432x288 with 1 Axes>"
      ]
     },
     "metadata": {
      "needs_background": "light"
     },
     "output_type": "display_data"
    }
   ],
   "source": [
    "dml_deltas = np.array(dml_deltas)\n",
    "print(f'DML MAPE: {np.mean(abs(dml_deltas)/treat_eff)}')\n",
    "print(f'DML % Bias: {np.mean(dml_deltas)/treat_eff}')\n",
    "print(f'DML Stdev of Err: {np.std(dml_deltas)}')\n",
    "plt.title('MAPE for DML T-Eff Modelling')\n",
    "plt.hist(dml_deltas/treat_eff)"
   ]
  },
  {
   "cell_type": "code",
   "execution_count": 428,
   "metadata": {
    "scrolled": true
   },
   "outputs": [
    {
     "name": "stdout",
     "output_type": "stream",
     "text": [
      "Std MAPE: 2.2868378298204273\n",
      "Std % Bias: -0.1621817301910489\n",
      "Std Stdev of Err: 1.3770679712041356\n"
     ]
    },
    {
     "data": {
      "text/plain": [
       "(array([2., 0., 2., 1., 9., 3., 3., 6., 2., 2.]),\n",
       " array([-6.77700168, -5.58652592, -4.39605017, -3.20557441, -2.01509866,\n",
       "        -0.82462291,  0.36585285,  1.5563286 ,  2.74680436,  3.93728011,\n",
       "         5.12775587]),\n",
       " <BarContainer object of 10 artists>)"
      ]
     },
     "execution_count": 428,
     "metadata": {},
     "output_type": "execute_result"
    },
    {
     "data": {
      "image/png": "[encoded data removed]",
      "text/plain": [
       "<Figure size 432x288 with 1 Axes>"
      ]
     },
     "metadata": {
      "needs_background": "light"
     },
     "output_type": "display_data"
    }
   ],
   "source": [
    "std_deltas = np.array(std_deltas)\n",
    "print(f'Std MAPE: {np.mean(abs(std_deltas)/treat_eff)}')\n",
    "print(f'Std % Bias: {np.mean(std_deltas/treat_eff)}')\n",
    "print(f'Std Stdev of Err: {np.std(std_deltas)}')\n",
    "plt.title('MAPE for Std T-Eff Modelling')\n",
    "plt.hist(std_deltas/treat_eff)"
   ]
  },
  {
   "cell_type": "code",
   "execution_count": null,
   "metadata": {},
   "outputs": [],
   "source": []
  },
  {
   "cell_type": "markdown",
   "metadata": {},
   "source": [
    "### Boston Housing Dataset"
   ]
  },
  {
   "cell_type": "code",
   "execution_count": 718,
   "metadata": {},
   "outputs": [],
   "source": [
    "def gen_boston(treat_imp=0.15):\n",
    "    data = load_boston()\n",
    "    X = data['data']\n",
    "    y = data['target']\n",
    "    data = pd.DataFrame(X)\n",
    "    data[treat_col] = gen_treatment(data)\n",
    "    \n",
    "    # Sizing treatment effect\n",
    "#     treat_eff = y.mean() * treat_imp # DML works well like this\n",
    "    treat_eff = treat_imp*y.mean()/data[treat_col].mean()\n",
    "\n",
    "    data[tgt_name] = y + data[treat_col]*treat_eff\n",
    "    print(f'Treatment Effect: {treat_eff}')\n",
    "    return data, treat_eff\n",
    "\n",
    "def gen_treatment(data, treat_corr=True):\n",
    "    # Correlating\n",
    "    c_idx = np.random.randint(len(confounders)) # feat which has impact on treatment and target\n",
    "    if c_idx == 9: c_idx = 5 # error is super super high for 9, maybe worth seeing why\n",
    "    print(f'Confounder: {confounders[c_idx]}')\n",
    "    if treat_corr: \n",
    "        conf = data[confounders[c_idx]].values*1.5 \n",
    "        other = data[confounders[2]].values*0.75 \n",
    "#         treat = np.random.rand(len(data))*other + conf # harder - treatment is more confounded (two features)\n",
    "#         treat = np.random.rand(len(data))*conf + conf # easier\n",
    "#         treat = np.random.rand(len(data))*conf.mean() + conf # easier - more indep influence via more noise\n",
    "#         treat = np.random.rand(len(data)) + conf # hardddd - why? limited independent influence\n",
    "        treat = conf # hardest by far - why? Treat has no independent influence over tgt, all controlled by conf\n",
    "    print(f'Mean treament: {treat.mean()}')\n",
    "    return treat\n",
    "\n",
    "def smape(pred, act):\n",
    "    return 2*abs(pred-act)/(abs(pred) + abs(act))"
   ]
  },
  {
   "cell_type": "code",
   "execution_count": 719,
   "metadata": {},
   "outputs": [
    {
     "name": "stdout",
     "output_type": "stream",
     "text": [
      "Confounder: 12\n",
      "Mean treament: 18.97959486166008\n",
      "Treatment Effect: 0.17808182805019956\n",
      "Treat Pct Bias: -0.2930241077875277\n",
      "Tgt Pct Bias: -1.2186396459744036\n",
      "Treat MAPE: 1.233885271546418\n",
      "Tgt MAPE: 7.232871056376355\n",
      "[0.06120468]\n",
      "Pct Err in DML Treatment Estimation: -65.63\n",
      "DML SMAPE: 0.9768804321947941\n",
      "Pct Err in LinReg Treatment Estimation: -166.76999999999998\n",
      "Confounder: 11\n",
      "Mean treament: 535.01104743083\n",
      "Treatment Effect: 0.006317478797582365\n",
      "Treat Pct Bias: -3.662219782000889\n",
      "Tgt Pct Bias: -1.4211958812910737\n",
      "Treat MAPE: 4.438445236078113\n",
      "Tgt MAPE: 7.461108390870168\n",
      "[-0.0622465]\n",
      "Pct Err in DML Treatment Estimation: -1085.31\n",
      "DML SMAPE: 2.0\n",
      "Pct Err in LinReg Treatment Estimation: -8691627210452542.0\n",
      "Confounder: 11\n",
      "Mean treament: 535.01104743083\n",
      "Treatment Effect: 0.006317478797582365\n",
      "Treat Pct Bias: -3.662219782000889\n",
      "Tgt Pct Bias: -1.4211958812910737\n",
      "Treat MAPE: 4.438445236078113\n",
      "Tgt MAPE: 7.461108390870168\n",
      "[-0.0622465]\n",
      "Pct Err in DML Treatment Estimation: -1085.31\n",
      "DML SMAPE: 2.0\n",
      "Pct Err in LinReg Treatment Estimation: -8691627210452542.0\n",
      "Confounder: 1\n",
      "Mean treament: 17.045454545454547\n",
      "Treatment Effect: 0.19828869565217394\n",
      "Treat Pct Bias: nan\n",
      "Tgt Pct Bias: -2.2132151491904763\n",
      "Treat MAPE: inf\n",
      "Tgt MAPE: 9.289753713153404\n",
      "[0.2051729]\n",
      "Pct Err in DML Treatment Estimation: 3.47\n",
      "DML SMAPE: 0.03412569966374345\n",
      "Pct Err in LinReg Treatment Estimation: -19.96\n",
      "Confounder: 6\n",
      "Mean treament: 102.86235177865612\n",
      "Treatment Effect: 0.032858678517186435\n",
      "Treat Pct Bias: -0.2077556084318087\n",
      "Tgt Pct Bias: -1.2595539314922506\n",
      "Treat MAPE: 0.8542192332417708\n",
      "Tgt MAPE: 7.220881805947263\n",
      "[0.11206346]\n",
      "Pct Err in DML Treatment Estimation: 241.04999999999998\n",
      "DML SMAPE: 1.0930667162507852\n",
      "Pct Err in LinReg Treatment Estimation: -29.799999999999997\n",
      "Confounder: 5\n",
      "Mean treament: 9.42695158102767\n",
      "Treatment Effect: 0.3585380618076902\n",
      "Treat Pct Bias: -0.020657410462477575\n",
      "Tgt Pct Bias: -1.3988257800053816\n",
      "Treat MAPE: 0.3550009123774013\n",
      "Tgt MAPE: 7.515587450137741\n",
      "[-3.10959742]\n",
      "Pct Err in DML Treatment Estimation: -967.3\n",
      "DML SMAPE: 2.0\n",
      "Pct Err in LinReg Treatment Estimation: 459.67\n",
      "Confounder: 6\n",
      "Mean treament: 102.86235177865612\n",
      "Treatment Effect: 0.032858678517186435\n",
      "Treat Pct Bias: -0.2077556084318087\n",
      "Tgt Pct Bias: -1.2595539314922506\n",
      "Treat MAPE: 0.8542192332417708\n",
      "Tgt MAPE: 7.220881805947263\n",
      "[0.11206346]\n",
      "Pct Err in DML Treatment Estimation: 241.04999999999998\n",
      "DML SMAPE: 1.0930667162507852\n",
      "Pct Err in LinReg Treatment Estimation: -29.799999999999997\n",
      "Confounder: 6\n",
      "Mean treament: 102.86235177865612\n",
      "Treatment Effect: 0.032858678517186435\n",
      "Treat Pct Bias: -0.2077556084318087\n",
      "Tgt Pct Bias: -1.2595539314922506\n",
      "Treat MAPE: 0.8542192332417708\n",
      "Tgt MAPE: 7.220881805947263\n",
      "[0.11206346]\n",
      "Pct Err in DML Treatment Estimation: 241.04999999999998\n",
      "DML SMAPE: 1.0930667162507852\n",
      "Pct Err in LinReg Treatment Estimation: -29.799999999999997\n",
      "Confounder: 3\n",
      "Mean treament: 0.10375494071146245\n",
      "Treatment Effect: 32.57600000000001\n",
      "Treat Pct Bias: -inf\n",
      "Tgt Pct Bias: -2.1660770770460207\n",
      "Treat MAPE: inf\n",
      "Tgt MAPE: 8.873840225527372\n",
      "[15044.74278521]\n",
      "Pct Err in DML Treatment Estimation: 46083.52\n",
      "DML SMAPE: 1.991357614582783\n",
      "Pct Err in LinReg Treatment Estimation: -26.96\n",
      "Confounder: 3\n",
      "Mean treament: 0.10375494071146245\n",
      "Treatment Effect: 32.57600000000001\n",
      "Treat Pct Bias: -inf\n",
      "Tgt Pct Bias: -2.1660770770460207\n",
      "Treat MAPE: inf\n",
      "Tgt MAPE: 8.873840225527372\n",
      "[15044.74278521]\n",
      "Pct Err in DML Treatment Estimation: 46083.52\n",
      "DML SMAPE: 1.991357614582783\n",
      "Pct Err in LinReg Treatment Estimation: -26.96\n",
      "Confounder: 5\n",
      "Mean treament: 9.42695158102767\n",
      "Treatment Effect: 0.3585380618076902\n",
      "Treat Pct Bias: -0.020657410462477575\n",
      "Tgt Pct Bias: -1.3988257800053816\n",
      "Treat MAPE: 0.3550009123774013\n",
      "Tgt MAPE: 7.515587450137741\n",
      "[-3.10959742]\n",
      "Pct Err in DML Treatment Estimation: -967.3\n",
      "DML SMAPE: 2.0\n",
      "Pct Err in LinReg Treatment Estimation: 459.67\n",
      "Confounder: 3\n",
      "Mean treament: 0.10375494071146245\n",
      "Treatment Effect: 32.57600000000001\n",
      "Treat Pct Bias: -inf\n",
      "Tgt Pct Bias: -2.1660770770460207\n",
      "Treat MAPE: inf\n",
      "Tgt MAPE: 8.873840225527372\n",
      "[15044.74278521]\n",
      "Pct Err in DML Treatment Estimation: 46083.52\n",
      "DML SMAPE: 1.991357614582783\n",
      "Pct Err in LinReg Treatment Estimation: -26.96\n",
      "Confounder: 12\n",
      "Mean treament: 18.97959486166008\n",
      "Treatment Effect: 0.17808182805019956\n",
      "Treat Pct Bias: -0.2930241077875277\n",
      "Tgt Pct Bias: -1.2186396459744036\n",
      "Treat MAPE: 1.233885271546418\n",
      "Tgt MAPE: 7.232871056376355\n",
      "[0.06120468]\n",
      "Pct Err in DML Treatment Estimation: -65.63\n",
      "DML SMAPE: 0.9768804321947941\n",
      "Pct Err in LinReg Treatment Estimation: -166.76999999999998\n",
      "Confounder: 12\n",
      "Mean treament: 18.97959486166008\n",
      "Treatment Effect: 0.17808182805019956\n",
      "Treat Pct Bias: -0.2930241077875277\n",
      "Tgt Pct Bias: -1.2186396459744036\n",
      "Treat MAPE: 1.233885271546418\n",
      "Tgt MAPE: 7.232871056376355\n",
      "[0.06120468]\n",
      "Pct Err in DML Treatment Estimation: -65.63\n",
      "DML SMAPE: 0.9768804321947941\n",
      "Pct Err in LinReg Treatment Estimation: -166.76999999999998\n",
      "Confounder: 0\n",
      "Mean treament: 5.42028533596838\n",
      "Treatment Effect: 0.6235688232477063\n",
      "Treat Pct Bias: -129.74633008292375\n",
      "Tgt Pct Bias: -1.6265542742308008\n",
      "Treat MAPE: 147.0045078397807\n",
      "Tgt MAPE: 8.052248084615588\n",
      "[0.6512935]\n",
      "Pct Err in DML Treatment Estimation: 4.45\n",
      "DML SMAPE: 0.0434943882902489\n",
      "Pct Err in LinReg Treatment Estimation: -38.76\n",
      "Confounder: 2\n",
      "Mean treament: 16.705167984189725\n",
      "Treatment Effect: 0.20232786355787985\n",
      "Treat Pct Bias: -0.4250485744795961\n",
      "Tgt Pct Bias: -1.2789747169612788\n",
      "Treat MAPE: 1.073476663142486\n",
      "Tgt MAPE: 7.162494561038368\n",
      "[-0.02904548]\n",
      "Pct Err in DML Treatment Estimation: -114.36\n",
      "DML SMAPE: 2.0\n",
      "Pct Err in LinReg Treatment Estimation: -26.08\n",
      "Confounder: 5\n",
      "Mean treament: 9.42695158102767\n",
      "Treatment Effect: 0.3585380618076902\n",
      "Treat Pct Bias: -0.020657410462477575\n",
      "Tgt Pct Bias: -1.3988257800053816\n",
      "Treat MAPE: 0.3550009123774013\n",
      "Tgt MAPE: 7.515587450137741\n",
      "[-3.10959742]\n",
      "Pct Err in DML Treatment Estimation: -967.3\n",
      "DML SMAPE: 2.0\n",
      "Pct Err in LinReg Treatment Estimation: 459.67\n",
      "Confounder: 10\n",
      "Mean treament: 27.68330039525692\n",
      "Treatment Effect: 0.12209241312844676\n",
      "Treat Pct Bias: -0.003753773551214176\n",
      "Tgt Pct Bias: -1.3633192054194891\n",
      "Treat MAPE: 0.09086168048097763\n",
      "Tgt MAPE: 7.38777914420771\n",
      "[-0.75039396]\n",
      "Pct Err in DML Treatment Estimation: -714.61\n",
      "DML SMAPE: 2.0\n",
      "Pct Err in LinReg Treatment Estimation: -390.93\n",
      "Confounder: 3\n",
      "Mean treament: 0.10375494071146245\n",
      "Treatment Effect: 32.57600000000001\n",
      "Treat Pct Bias: -inf\n",
      "Tgt Pct Bias: -2.1660770770460207\n",
      "Treat MAPE: inf\n",
      "Tgt MAPE: 8.873840225527372\n",
      "[15044.74278521]\n",
      "Pct Err in DML Treatment Estimation: 46083.52\n",
      "DML SMAPE: 1.991357614582783\n",
      "Pct Err in LinReg Treatment Estimation: -26.96\n",
      "Confounder: 12\n",
      "Mean treament: 18.97959486166008\n",
      "Treatment Effect: 0.17808182805019956\n",
      "Treat Pct Bias: -0.2930241077875277\n",
      "Tgt Pct Bias: -1.2186396459744036\n",
      "Treat MAPE: 1.233885271546418\n",
      "Tgt MAPE: 7.232871056376355\n",
      "[0.06120468]\n",
      "Pct Err in DML Treatment Estimation: -65.63\n",
      "DML SMAPE: 0.9768804321947941\n",
      "Pct Err in LinReg Treatment Estimation: -166.76999999999998\n",
      "Confounder: 1\n",
      "Mean treament: 17.045454545454547\n",
      "Treatment Effect: 0.19828869565217394\n",
      "Treat Pct Bias: nan\n",
      "Tgt Pct Bias: -2.2132151491904763\n",
      "Treat MAPE: inf\n",
      "Tgt MAPE: 9.289753713153404\n",
      "[0.2051729]\n",
      "Pct Err in DML Treatment Estimation: 3.47\n",
      "DML SMAPE: 0.03412569966374345\n",
      "Pct Err in LinReg Treatment Estimation: -19.96\n",
      "Confounder: 7\n",
      "Mean treament: 5.692564031620553\n",
      "Treatment Effect: 0.5937431585911225\n",
      "Treat Pct Bias: -0.24725450270962748\n",
      "Tgt Pct Bias: -1.5864468320318652\n",
      "Treat MAPE: 1.0248059039169892\n",
      "Tgt MAPE: 7.860609842924912\n",
      "[-0.40461154]\n",
      "Pct Err in DML Treatment Estimation: -168.15\n",
      "DML SMAPE: 2.0\n",
      "Pct Err in LinReg Treatment Estimation: -145.47\n",
      "Confounder: 10\n",
      "Mean treament: 27.68330039525692\n",
      "Treatment Effect: 0.12209241312844676\n",
      "Treat Pct Bias: -0.003753773551214176\n",
      "Tgt Pct Bias: -1.3633192054194891\n",
      "Treat MAPE: 0.09086168048097763\n",
      "Tgt MAPE: 7.38777914420771\n",
      "[-0.75039396]\n",
      "Pct Err in DML Treatment Estimation: -714.61\n",
      "DML SMAPE: 2.0\n",
      "Pct Err in LinReg Treatment Estimation: -390.93\n",
      "Confounder: 11\n",
      "Mean treament: 535.01104743083\n",
      "Treatment Effect: 0.006317478797582365\n",
      "Treat Pct Bias: -3.662219782000889\n",
      "Tgt Pct Bias: -1.4211958812910737\n",
      "Treat MAPE: 4.438445236078113\n",
      "Tgt MAPE: 7.461108390870168\n",
      "[-0.0622465]\n",
      "Pct Err in DML Treatment Estimation: -1085.31\n",
      "DML SMAPE: 2.0\n",
      "Pct Err in LinReg Treatment Estimation: -8691627210452542.0\n",
      "Confounder: 0\n",
      "Mean treament: 5.42028533596838\n",
      "Treatment Effect: 0.6235688232477063\n",
      "Treat Pct Bias: -129.74633008292375\n",
      "Tgt Pct Bias: -1.6265542742308008\n",
      "Treat MAPE: 147.0045078397807\n",
      "Tgt MAPE: 8.052248084615588\n",
      "[0.6512935]\n",
      "Pct Err in DML Treatment Estimation: 4.45\n",
      "DML SMAPE: 0.0434943882902489\n",
      "Pct Err in LinReg Treatment Estimation: -38.76\n",
      "Confounder: 4\n",
      "Mean treament: 0.8320425889328062\n",
      "Treatment Effect: 4.062197048052255\n"
     ]
    },
    {
     "name": "stdout",
     "output_type": "stream",
     "text": [
      "Treat Pct Bias: -0.003186721035679778\n",
      "Tgt Pct Bias: -1.3280268146220962\n",
      "Treat MAPE: 0.09839016591553529\n",
      "Tgt MAPE: 7.430838368200917\n",
      "[-106.40837852]\n",
      "Pct Err in DML Treatment Estimation: -2719.48\n",
      "DML SMAPE: 2.0\n",
      "Pct Err in LinReg Treatment Estimation: -232.63\n",
      "Confounder: 6\n",
      "Mean treament: 102.86235177865612\n",
      "Treatment Effect: 0.032858678517186435\n",
      "Treat Pct Bias: -0.2077556084318087\n",
      "Tgt Pct Bias: -1.2595539314922506\n",
      "Treat MAPE: 0.8542192332417708\n",
      "Tgt MAPE: 7.220881805947263\n",
      "[0.11206346]\n",
      "Pct Err in DML Treatment Estimation: 241.04999999999998\n",
      "DML SMAPE: 1.0930667162507852\n",
      "Pct Err in LinReg Treatment Estimation: -29.799999999999997\n",
      "Confounder: 6\n",
      "Mean treament: 102.86235177865612\n",
      "Treatment Effect: 0.032858678517186435\n",
      "Treat Pct Bias: -0.2077556084318087\n",
      "Tgt Pct Bias: -1.2595539314922506\n",
      "Treat MAPE: 0.8542192332417708\n",
      "Tgt MAPE: 7.220881805947263\n",
      "[0.11206346]\n",
      "Pct Err in DML Treatment Estimation: 241.04999999999998\n",
      "DML SMAPE: 1.0930667162507852\n",
      "Pct Err in LinReg Treatment Estimation: -29.799999999999997\n",
      "Confounder: 11\n",
      "Mean treament: 535.01104743083\n",
      "Treatment Effect: 0.006317478797582365\n",
      "Treat Pct Bias: -3.662219782000889\n",
      "Tgt Pct Bias: -1.4211958812910737\n",
      "Treat MAPE: 4.438445236078113\n",
      "Tgt MAPE: 7.461108390870168\n",
      "[-0.0622465]\n",
      "Pct Err in DML Treatment Estimation: -1085.31\n",
      "DML SMAPE: 2.0\n",
      "Pct Err in LinReg Treatment Estimation: -8691627210452542.0\n",
      "Confounder: 12\n",
      "Mean treament: 18.97959486166008\n",
      "Treatment Effect: 0.17808182805019956\n",
      "Treat Pct Bias: -0.2930241077875277\n",
      "Tgt Pct Bias: -1.2186396459744036\n",
      "Treat MAPE: 1.233885271546418\n",
      "Tgt MAPE: 7.232871056376355\n",
      "[0.06120468]\n",
      "Pct Err in DML Treatment Estimation: -65.63\n",
      "DML SMAPE: 0.9768804321947941\n",
      "Pct Err in LinReg Treatment Estimation: -166.76999999999998\n"
     ]
    }
   ],
   "source": [
    "dml_errs=[]\n",
    "dml_smapes=[]\n",
    "std_errs=[]\n",
    "std_smapes=[]\n",
    "for i in range(30):\n",
    "    data, treat_eff = gen_boston()\n",
    "\n",
    "    dml_te = dml(data, mod=mod, verbose=True)\n",
    "    dml_smape = smape(dml_te,treat_eff)\n",
    "    print(f'DML SMAPE: {dml_smape}')\n",
    "    dml_errs.append( (dml_te - treat_eff) / treat_eff)\n",
    "    dml_smapes.append(dml_smape)\n",
    "\n",
    "    std_te = fit_std_model(data)\n",
    "    std_smape = smape(std_te,treat_eff)\n",
    "    std_errs.append( (std_te - treat_eff)/treat_eff )\n",
    "    std_smapes.append(std_smape)"
   ]
  },
  {
   "cell_type": "code",
   "execution_count": 720,
   "metadata": {},
   "outputs": [
    {
     "name": "stdout",
     "output_type": "stream",
     "text": [
      "DML MAPE: 1.4156802125489005\n",
      "DML % Bias: 57.85088693019637\n",
      "DML Stdev of Err: 158.18800920979885\n"
     ]
    },
    {
     "data": {
      "image/png": "[encoded data removed]",
      "text/plain": [
       "<Figure size 432x288 with 1 Axes>"
      ]
     },
     "metadata": {
      "needs_background": "light"
     },
     "output_type": "display_data"
    },
    {
     "data": {
      "text/plain": [
       "(array([26.,  0.,  0.,  0.,  0.,  0.,  0.,  0.,  0.,  4.]),\n",
       " array([-27.19478505,  21.60821133,  70.41120772, 119.21420411,\n",
       "        168.0172005 , 216.82019688, 265.62319327, 314.42618966,\n",
       "        363.22918604, 412.03218243, 460.83517882]),\n",
       " <BarContainer object of 10 artists>)"
      ]
     },
     "execution_count": 720,
     "metadata": {},
     "output_type": "execute_result"
    },
    {
     "data": {
      "image/png": "[encoded data removed]",
      "text/plain": [
       "<Figure size 432x288 with 1 Axes>"
      ]
     },
     "metadata": {
      "needs_background": "light"
     },
     "output_type": "display_data"
    }
   ],
   "source": [
    "dml_errs = np.array(dml_errs)\n",
    "dml_smapes = np.array(dml_smapes)\n",
    "print(f'DML MAPE: {np.mean(dml_smapes)}')\n",
    "print(f'DML % Bias: {np.mean(dml_errs)}')\n",
    "print(f'DML Stdev of Err: {np.std(dml_errs)}')\n",
    "plt.title('SMAPE for DML T-Eff Modelling')\n",
    "plt.hist(dml_smapes)\n",
    "plt.show()\n",
    "plt.title('MAE for DML T-Eff Modelling')\n",
    "plt.hist(dml_errs)"
   ]
  },
  {
   "cell_type": "code",
   "execution_count": 721,
   "metadata": {},
   "outputs": [
    {
     "name": "stdout",
     "output_type": "stream",
     "text": [
      "std MAPE: 1.1627752321498266\n",
      "std % Bias: -11588836280603.729\n",
      "std Stdev of Err: 29545851167314.223\n"
     ]
    },
    {
     "data": {
      "image/png": "[encoded data removed]",
      "text/plain": [
       "<Figure size 432x288 with 1 Axes>"
      ]
     },
     "metadata": {
      "needs_background": "light"
     },
     "output_type": "display_data"
    },
    {
     "data": {
      "text/plain": [
       "(array([ 4.,  0.,  0.,  0.,  0.,  0.,  0.,  0.,  0., 26.]),\n",
       " array([-8.69162721e+13, -7.82246449e+13, -6.95330177e+13, -6.08413905e+13,\n",
       "        -5.21497633e+13, -4.34581361e+13, -3.47665088e+13, -2.60748816e+13,\n",
       "        -1.73832544e+13, -8.69162721e+12,  4.59666657e+00]),\n",
       " <BarContainer object of 10 artists>)"
      ]
     },
     "execution_count": 721,
     "metadata": {},
     "output_type": "execute_result"
    },
    {
     "data": {
      "image/png": "[encoded data removed]",
      "text/plain": [
       "<Figure size 432x288 with 1 Axes>"
      ]
     },
     "metadata": {
      "needs_background": "light"
     },
     "output_type": "display_data"
    }
   ],
   "source": [
    "std_errs = np.array(std_errs)\n",
    "std_smapes = np.array(std_smapes)\n",
    "print(f'std MAPE: {np.mean(std_smapes)}')\n",
    "print(f'std % Bias: {np.mean(std_errs)}')\n",
    "print(f'std Stdev of Err: {np.std(std_errs)}')\n",
    "plt.title('SMAPE for std T-Eff Modelling')\n",
    "plt.hist(std_smapes)\n",
    "plt.show()\n",
    "plt.title('MAE for std T-Eff Modelling')\n",
    "plt.hist(std_errs)"
   ]
  },
  {
   "cell_type": "code",
   "execution_count": 559,
   "metadata": {},
   "outputs": [
    {
     "data": {
      "text/plain": [
       "array([  17.31980241,  -12.1452623 , -104.48126999,   43.96499267,\n",
       "         53.08141902,    7.73572938,  -50.48000266,   20.81700467,\n",
       "         52.98385207,  -25.70494096,   -3.70890727,   60.78354789,\n",
       "        -18.63243223,  -10.21703738,   82.90286475,  -39.27470829,\n",
       "         75.15649121,  -61.62567327,   -9.77963133,  -26.84579454,\n",
       "         84.43843978, -144.30857213,   25.74841687,   80.66153854,\n",
       "         29.42890267,   40.18517415,   23.6328549 ,   39.79196179,\n",
       "         -4.79805458,   16.27760163])"
      ]
     },
     "execution_count": 559,
     "metadata": {},
     "output_type": "execute_result"
    }
   ],
   "source": [
    "std_deltas"
   ]
  },
  {
   "cell_type": "code",
   "execution_count": 560,
   "metadata": {},
   "outputs": [
    {
     "data": {
      "text/plain": [
       "24.98191680129445"
      ]
     },
     "execution_count": 560,
     "metadata": {},
     "output_type": "execute_result"
    }
   ],
   "source": [
    "treat_eff"
   ]
  },
  {
   "cell_type": "code",
   "execution_count": null,
   "metadata": {},
   "outputs": [],
   "source": []
  }
 ],
 "metadata": {
  "kernelspec": {
   "display_name": "Python 3",
   "language": "python",
   "name": "python3"
  },
  "language_info": {
   "codemirror_mode": {
    "name": "ipython",
    "version": 3
   },
   "file_extension": ".py",
   "mimetype": "text/x-python",
   "name": "python",
   "nbconvert_exporter": "python",
   "pygments_lexer": "ipython3",
   "version": "3.7.7"
  }
 },
 "nbformat": 4,
 "nbformat_minor": 4
}
